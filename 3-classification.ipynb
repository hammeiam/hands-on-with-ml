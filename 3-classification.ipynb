{
 "cells": [
  {
   "cell_type": "code",
   "execution_count": 1,
   "metadata": {},
   "outputs": [],
   "source": [
    "import dask_ml.joblib\n",
    "from dask.distributed import Client\n",
    "from sklearn.externals import joblib\n",
    "from sklearn.datasets import fetch_mldata\n",
    "from sklearn.linear_model import SGDClassifier\n",
    "import numpy as np\n",
    "\n",
    "%matplotlib inline\n",
    "import matplotlib\n",
    "import matplotlib.pyplot as plt"
   ]
  },
  {
   "cell_type": "code",
   "execution_count": 2,
   "metadata": {},
   "outputs": [
    {
     "data": {
      "text/plain": [
       "{'DESCR': 'mldata.org dataset: mnist-original',\n",
       " 'COL_NAMES': ['label', 'data'],\n",
       " 'target': array([0., 0., 0., ..., 9., 9., 9.]),\n",
       " 'data': array([[0, 0, 0, ..., 0, 0, 0],\n",
       "        [0, 0, 0, ..., 0, 0, 0],\n",
       "        [0, 0, 0, ..., 0, 0, 0],\n",
       "        ...,\n",
       "        [0, 0, 0, ..., 0, 0, 0],\n",
       "        [0, 0, 0, ..., 0, 0, 0],\n",
       "        [0, 0, 0, ..., 0, 0, 0]], dtype=uint8)}"
      ]
     },
     "execution_count": 2,
     "metadata": {},
     "output_type": "execute_result"
    }
   ],
   "source": [
    "mnist = fetch_mldata('MNIST original')\n",
    "mnist"
   ]
  },
  {
   "cell_type": "code",
   "execution_count": 3,
   "metadata": {},
   "outputs": [
    {
     "name": "stdout",
     "output_type": "stream",
     "text": [
      "(70000, 784)\n",
      "(70000,)\n"
     ]
    }
   ],
   "source": [
    "X, y = mnist[\"data\"], mnist[\"target\"]\n",
    "print(X.shape)\n",
    "print(y.shape)"
   ]
  },
  {
   "cell_type": "code",
   "execution_count": 4,
   "metadata": {},
   "outputs": [
    {
     "data": {
      "text/plain": [
       "(-0.5, 27.5, 27.5, -0.5)"
      ]
     },
     "execution_count": 4,
     "metadata": {},
     "output_type": "execute_result"
    },
    {
     "data": {
      "image/png": "[encoded data removed]",
      "text/plain": [
       "<matplotlib.figure.Figure at 0x7f0d206334e0>"
      ]
     },
     "metadata": {
      "needs_background": "light"
     },
     "output_type": "display_data"
    }
   ],
   "source": [
    "some_digit = X[3000]\n",
    "some_digit_img = some_digit.reshape(28,28)\n",
    "plt.imshow(some_digit_img, cmap=\"gray\")\n",
    "plt.axis(\"off\")"
   ]
  },
  {
   "cell_type": "code",
   "execution_count": 5,
   "metadata": {},
   "outputs": [],
   "source": [
    "# split our data into train & validation sets like good data scientists\n",
    "TEST_SET_SIZE = 60_000\n",
    "RANDOM_STATE = 42\n",
    "X_train, X_test, y_train, y_test = X[:TEST_SET_SIZE], X[TEST_SET_SIZE:], y[:TEST_SET_SIZE], y[TEST_SET_SIZE:]\n",
    "\n",
    "shuffle_index = np.random.RandomState(RANDOM_STATE).permutation(60_000)\n",
    "\n",
    "X_train, y_train = X_train[shuffle_index], y_train[shuffle_index]"
   ]
  },
  {
   "cell_type": "code",
   "execution_count": 7,
   "metadata": {},
   "outputs": [
    {
     "name": "stderr",
     "output_type": "stream",
     "text": [
      "/home/david/anaconda3/envs/ml/lib/python3.6/importlib/_bootstrap.py:205: RuntimeWarning: numpy.dtype size changed, may indicate binary incompatibility. Expected 96, got 88\n",
      "  return f(*args, **kwds)\n"
     ]
    },
    {
     "data": {
      "text/html": [
       "<table style=\"border: 2px solid white;\">\n",
       "<tr>\n",
       "<td style=\"vertical-align: top; border: 0px solid white\">\n",
       "<h3>Client</h3>\n",
       "<ul>\n",
       "  <li><b>Scheduler: </b>tcp://127.0.0.1:45347\n",
       "  <li><b>Dashboard: </b><a href='http://127.0.0.1:8786/status' target='_blank'>http://127.0.0.1:8786/status</a>\n",
       "</ul>\n",
       "</td>\n",
       "<td style=\"vertical-align: top; border: 0px solid white\">\n",
       "<h3>Cluster</h3>\n",
       "<ul>\n",
       "  <li><b>Workers: </b>4</li>\n",
       "  <li><b>Cores: </b>4</li>\n",
       "  <li><b>Memory: </b>33.70 GB</li>\n",
       "</ul>\n",
       "</td>\n",
       "</tr>\n",
       "</table>"
      ],
      "text/plain": [
       "<Client: scheduler='tcp://127.0.0.1:45347' processes=4 cores=4>"
      ]
     },
     "execution_count": 7,
     "metadata": {},
     "output_type": "execute_result"
    }
   ],
   "source": [
    "# let's play with Dask\n",
    "if \"client\" in locals():\n",
    "    client.close()\n",
    "    \n",
    "client = Client(diagnostics_port=8786)\n",
    "client"
   ]
  },
  {
   "cell_type": "code",
   "execution_count": 13,
   "metadata": {},
   "outputs": [
    {
     "name": "stdout",
     "output_type": "stream",
     "text": [
      "SGDClassifier(alpha=0.0001, average=False, class_weight=None, epsilon=0.1,\n",
      "       eta0=0.0, fit_intercept=True, l1_ratio=0.15,\n",
      "       learning_rate='optimal', loss='hinge', max_iter=100, n_iter=None,\n",
      "       n_jobs=4, penalty='l2', power_t=0.5, random_state=42, shuffle=True,\n",
      "       tol=None, verbose=0, warm_start=False)\n",
      "CPU times: user 6.93 s, sys: 113 ms, total: 7.04 s\n",
      "Wall time: 6.82 s\n"
     ]
    }
   ],
   "source": [
    "%%time\n",
    "# Binary classifer: Is it a 5?\n",
    "\n",
    "# create labels just for 5\n",
    "y_train_5 = (y_train == 5)\n",
    "y_test_5 = (y_test == 5)\n",
    "\n",
    "sgd_clf = SGDClassifier(\n",
    "    random_state=RANDOM_STATE,\n",
    "    max_iter=100,\n",
    ")\n",
    "\n",
    "# NOTE: this will only run on one core since we only have one class\n",
    "# from the docs: \"The number of CPUs to use to do the OVA \n",
    "# (One Versus All, for multi-class problems) computation.\"\n",
    "with joblib.parallel_backend(\"dask\", scatter=[X_train, y_train_5]):\n",
    "    sgd_clf.fit(X_train, y_train_5)\n",
    "print(sgd_clf)"
   ]
  },
  {
   "cell_type": "code",
   "execution_count": 24,
   "metadata": {},
   "outputs": [
    {
     "data": {
      "text/plain": [
       "array([ True])"
      ]
     },
     "execution_count": 24,
     "metadata": {},
     "output_type": "execute_result"
    },
    {
     "data": {
      "image/png": "[encoded data removed]",
      "text/plain": [
       "<matplotlib.figure.Figure at 0x7f0cd8be8b70>"
      ]
     },
     "metadata": {
      "needs_background": "light"
     },
     "output_type": "display_data"
    }
   ],
   "source": [
    "five_idx = np.where(y_train_5 == True)[0][1]\n",
    "five_digit = X_train[five_idx]\n",
    "five_digit_img = five_digit.reshape(28,28)\n",
    "plt.imshow(five_digit_img, cmap=\"gray\")\n",
    "plt.axis(\"off\")\n",
    "sgd_clf.predict([five_digit])"
   ]
  },
  {
   "cell_type": "code",
   "execution_count": 15,
   "metadata": {},
   "outputs": [
    {
     "name": "stdout",
     "output_type": "stream",
     "text": [
      "0.9625\n",
      "0.96735\n",
      "0.9652\n"
     ]
    }
   ],
   "source": [
    "# Performance Measures\n",
    "\n",
    "from sklearn.model_selection import StratifiedKFold\n",
    "from sklearn.base import clone\n",
    "\n",
    "skfolds = StratifiedKFold(n_splits=3,random_state=RANDOM_STATE)\n",
    "\n",
    "# \"manually\" doing cross-validation with stratified kfolds\n",
    "for train_index, test_index in skfolds.split(X_train, y_train_5):\n",
    "    clone_clf = clone(sgd_clf)\n",
    "    X_train_folds = X_train[train_index]\n",
    "    y_train_folds = (y_train_5[train_index])\n",
    "    X_test_fold = X_train[test_index]\n",
    "    y_test_fold = (y_train_5[test_index])\n",
    "    \n",
    "    clone_clf.fit(X_train_folds, y_train_folds)\n",
    "    y_pred = clone_clf.predict(X_test_fold)\n",
    "    n_correct = sum(y_pred == y_test_fold)\n",
    "    print(n_correct / len(y_pred))"
   ]
  },
  {
   "cell_type": "code",
   "execution_count": 16,
   "metadata": {},
   "outputs": [],
   "source": [
    "from sklearn.model_selection import cross_val_score\n",
    "\n",
    "# now the easy way\n",
    "# note this uses stratifiedKFolds under the hood http://scikit-learn.org/stable/modules/generated/sklearn.model_selection.cross_val_score.html\n",
    "with joblib.parallel_backend(\"dask\", scatter=[X_train, y_train_5]):\n",
    "    cross_val_score(\n",
    "        sgd_clf,\n",
    "        X_train,\n",
    "        y_train_5,\n",
    "        cv=3,\n",
    "        scoring=\"accuracy\",\n",
    "    )"
   ]
  },
  {
   "cell_type": "code",
   "execution_count": 17,
   "metadata": {},
   "outputs": [],
   "source": [
    "# Making an intentionally bad etimator to show that numbers lie\n",
    "\n",
    "from sklearn.base import BaseEstimator\n",
    "\n",
    "class Never5Classifier(BaseEstimator):\n",
    "    def fit(self, X, y=None):\n",
    "        pass\n",
    "    def predict(self, X):\n",
    "        return np.zeros((len(X), 1), dtype=bool)\n",
    "    \n",
    "never_5_clf = Never5Classifier()\n",
    "with joblib.parallel_backend(\"dask\", scatter=[X_train, y_train_5]):\n",
    "    cross_val_score(\n",
    "        never_5_clf,\n",
    "        X_train,\n",
    "        y_train_5,\n",
    "        cv=3,\n",
    "        scoring=\"accuracy\",\n",
    "    )\n",
    "# we get 90%+ scores because only 10% of our data could possibly be 5s\n",
    "# ergo accuracy is not a great measure for models"
   ]
  },
  {
   "cell_type": "code",
   "execution_count": 18,
   "metadata": {},
   "outputs": [
    {
     "name": "stdout",
     "output_type": "stream",
     "text": [
      "(60000,)\n"
     ]
    },
    {
     "data": {
      "text/plain": [
       "array([[53611,   968],\n",
       "       [ 1131,  4290]])"
      ]
     },
     "execution_count": 18,
     "metadata": {},
     "output_type": "execute_result"
    }
   ],
   "source": [
    "# Confusion Matrix\n",
    "\n",
    "from sklearn.model_selection import cross_val_predict\n",
    "from sklearn.metrics import confusion_matrix\n",
    "\n",
    "y_train_pred = cross_val_predict(sgd_clf,X_train,y_train_5,cv=3)\n",
    "print(y_train_pred.shape)\n",
    "\n",
    "\"\"\"\n",
    "                         Predicted\n",
    "                    Negative    Positive\n",
    "        Negative  [[True neg,   False neg],\n",
    "Actual\n",
    "        Positive   [False pos,  True pos]]\n",
    "\"\"\"\n",
    "confusion_matrix(y_train_5, y_train_pred)\n"
   ]
  },
  {
   "cell_type": "code",
   "execution_count": 21,
   "metadata": {},
   "outputs": [
    {
     "name": "stdout",
     "output_type": "stream",
     "text": [
      "Precision: 0.8158995815899581\n",
      "Recall: 0.7913669064748201\n",
      "F1: 0.8034460155445267\n"
     ]
    }
   ],
   "source": [
    "# Precision and Recall\n",
    "\n",
    "# Precision\n",
    "# TP / (TP + FP)\n",
    "# How many times were we right when we said something was a 5?\n",
    "\n",
    "# Recall\n",
    "# TP / (TP + FN)\n",
    "# Of the 5s that existed, how many did we correctly guess?\n",
    "\n",
    "# F1 Score\n",
    "# A score comprised of both precision & accuracy. Is only high when both are high\n",
    "\n",
    "# Note that depending on our use case, we may prefer to have \n",
    "# higher precision (detecting shoplifting) or higher recall (NSFW classifier)\n",
    "\n",
    "from sklearn.metrics import precision_score, recall_score, f1_score\n",
    "print(f\"Precision: {precision_score(y_train_5, y_train_pred)}\")\n",
    "print(f\"Recall: {recall_score(y_train_5, y_train_pred)}\")\n",
    "print(f\"F1: {f1_score(y_train_5, y_train_pred)}\")\n"
   ]
  },
  {
   "cell_type": "code",
   "execution_count": 25,
   "metadata": {},
   "outputs": [
    {
     "name": "stdout",
     "output_type": "stream",
     "text": [
      "[10952.4068498]\n",
      "[ True]\n",
      "[False]\n"
     ]
    }
   ],
   "source": [
    "# Precision/Recall Tradeoff\n",
    "\n",
    "# sklearn also gives us the ability to just return the raw output of \n",
    "# decision functions, where we can set our own threshold for classification\n",
    "some_score = sgd_clf.decision_function([five_digit])\n",
    "print(some_score)\n",
    "threshold1 = 0\n",
    "threshold2 = 20_000\n",
    "print(some_score > threshold1)\n",
    "print(some_score > threshold2)"
   ]
  },
  {
   "cell_type": "code",
   "execution_count": 29,
   "metadata": {},
   "outputs": [
    {
     "name": "stdout",
     "output_type": "stream",
     "text": [
      "(59964,)\n",
      "-155750.06940303944\n",
      "51796.73578234703\n"
     ]
    },
    {
     "data": {
      "image/png": "[encoded data removed]",
      "text/plain": [
       "<matplotlib.figure.Figure at 0x7f0cdabff160>"
      ]
     },
     "metadata": {
      "needs_background": "light"
     },
     "output_type": "display_data"
    }
   ],
   "source": [
    "from sklearn.metrics import precision_recall_curve\n",
    "\n",
    "y_scores = cross_val_predict(\n",
    "    sgd_clf,\n",
    "    X_train,\n",
    "    y_train_5,\n",
    "    cv=3,\n",
    "    method=\"decision_function\"\n",
    ")\n",
    "precisions, recalls, thresholds = precision_recall_curve(y_train_5, y_scores)\n",
    "\n",
    "def plot_precision_recall_vs_threshold(precisions, recalls, thresholds):\n",
    "    plt.plot(thresholds, precisions[:-1], \"b--\", label=\"Precision\")\n",
    "    plt.plot(thresholds, recalls[:-1], \"g-\", label=\"Recall\")\n",
    "    plt.xlabel(\"Threshold\")\n",
    "    plt.legend(loc=\"upper left\")\n",
    "    plt.ylim([0,1])\n",
    "    \n",
    "plot_precision_recall_vs_threshold(precisions, recalls, thresholds)\n"
   ]
  },
  {
   "cell_type": "code",
   "execution_count": 33,
   "metadata": {},
   "outputs": [
    {
     "data": {
      "image/png": "[encoded data removed]",
      "text/plain": [
       "<matplotlib.figure.Figure at 0x7f0cdb37cef0>"
      ]
     },
     "metadata": {
      "needs_background": "light"
     },
     "output_type": "display_data"
    }
   ],
   "source": [
    "# we can also just plot precision against recall\n",
    "def plot_precision_recall(precisions, recalls):\n",
    "    plt.plot(recalls, precisions, linewidth=2, label=\"Precision\")\n",
    "    plt.xlabel('Recall')\n",
    "    plt.ylabel('Precision')\n",
    "    plt.axis([0,1,0,1])\n",
    "\n",
    "plot_precision_recall(precisions, recalls)"
   ]
  },
  {
   "cell_type": "code",
   "execution_count": 30,
   "metadata": {},
   "outputs": [
    {
     "data": {
      "image/png": "[encoded data removed]",
      "text/plain": [
       "<matplotlib.figure.Figure at 0x7f0cd2422160>"
      ]
     },
     "metadata": {
      "needs_background": "light"
     },
     "output_type": "display_data"
    }
   ],
   "source": [
    "# The ROC Curve\n",
    "# ROC stands for \"receiver operating characteristic\"\n",
    "# which is true positive rate vs false positive rate\n",
    "\n",
    "from sklearn.metrics import roc_curve\n",
    "\n",
    "fpr, tpr, thresholds = roc_curve(y_train_5, y_scores)\n",
    "\n",
    "def plot_roc_curve(fpr, tpr, label=None):\n",
    "    plt.plot(fpr, tpr, linewidth=2, label=label)\n",
    "    plt.plot([0,1],[0,1], \"k--\")\n",
    "    plt.axis([0,1,0,1])\n",
    "    plt.xlabel('False Positive Rate')\n",
    "    plt.ylabel('True Positive Rate')\n",
    "    \n",
    "plot_roc_curve(fpr, tpr)"
   ]
  },
  {
   "cell_type": "code",
   "execution_count": 31,
   "metadata": {},
   "outputs": [
    {
     "data": {
      "text/plain": [
       "0.9658120874858911"
      ]
     },
     "execution_count": 31,
     "metadata": {},
     "output_type": "execute_result"
    }
   ],
   "source": [
    "from sklearn.metrics import roc_auc_score\n",
    "\n",
    "# NOTE: rule of thumb - use PR curve when positive class is rare\n",
    "# or we care more about false positives than false negatives\n",
    "# use ROC otherwise\n",
    "\n",
    "# AUC Score or \"Area Under the Curve\" score of 1 is a perfect model,\n",
    "# and an auc of .5 is purely random\n",
    "roc_auc_score(y_train_5, y_scores)\n"
   ]
  },
  {
   "cell_type": "code",
   "execution_count": 34,
   "metadata": {},
   "outputs": [],
   "source": [
    "from sklearn.ensemble import RandomForestClassifier\n",
    "\n",
    "forest_clf = RandomForestClassifier(random_state=RANDOM_STATE)\n",
    "with joblib.parallel_backend(\"dask\", scatter=[X_train, y_train_5]):\n",
    "    y_probas_forest = cross_val_predict(\n",
    "        forest_clf,\n",
    "        X_train,\n",
    "        y_train_5,\n",
    "        cv=3,\n",
    "        method=\"predict_proba\"\n",
    "    )"
   ]
  },
  {
   "cell_type": "code",
   "execution_count": 36,
   "metadata": {},
   "outputs": [
    {
     "name": "stdout",
     "output_type": "stream",
     "text": [
      "Random Forest AUC: 0.9931243366003829\n"
     ]
    },
    {
     "data": {
      "image/png": "[encoded data removed]",
      "text/plain": [
       "<matplotlib.figure.Figure at 0x7f0cd1041a58>"
      ]
     },
     "metadata": {
      "needs_background": "light"
     },
     "output_type": "display_data"
    }
   ],
   "source": [
    "y_scores_forest = y_probas_forest[:, 1] # score = proba of positive class\n",
    "fpr_forest, tpr_forest, thresholds_forest = roc_curve(y_train_5, y_scores_forest)\n",
    "\n",
    "plt.plot(fpr, tpr, \"b:\", label=\"SGD\")\n",
    "plot_roc_curve(fpr_forest, tpr_forest, \"Random Forest\")\n",
    "plt.legend(loc=\"lower right\")\n",
    "\n",
    "print(f\"Random Forest AUC: {roc_auc_score(y_train_5,y_scores_forest)}\")"
   ]
  },
  {
   "cell_type": "code",
   "execution_count": 39,
   "metadata": {},
   "outputs": [],
   "source": [
    "# Multi-class Classification\n",
    "\n",
    "# sklearn detects when you're doing single vs multiclass. Easy!\n",
    "# also now dask works as expected because we're doing one-versus-all (OVA)\n",
    "# instead of one-versus-one (OVO) (for single class and SVMs)\n",
    "with joblib.parallel_backend(\"dask\", scatter=[X_train, y_train]):\n",
    "    some_digit_scores = sgd_clf.fit(X_train, y_train) # now doing multiclass"
   ]
  },
  {
   "cell_type": "code",
   "execution_count": 41,
   "metadata": {},
   "outputs": [
    {
     "name": "stdout",
     "output_type": "stream",
     "text": [
      "[5.]\n",
      "[[  1692.92018492 -34849.77412644 -19244.39206792 -44305.75638357\n",
      "  -35920.8104718   10952.4068498  -32024.7879121  -23801.6180984\n",
      "   -9506.03287898 -21542.61516144]]\n",
      "[0. 1. 2. 3. 4. 5. 6. 7. 8. 9.]\n"
     ]
    }
   ],
   "source": [
    "print(sgd_clf.predict([five_digit]))\n",
    "# notice here the highest score is our chosen class\n",
    "print(sgd_clf.decision_function([five_digit]))\n",
    "print(sgd_clf.classes_)"
   ]
  },
  {
   "cell_type": "code",
   "execution_count": 43,
   "metadata": {},
   "outputs": [
    {
     "name": "stdout",
     "output_type": "stream",
     "text": [
      "45\n"
     ]
    },
    {
     "data": {
      "text/plain": [
       "array([5.])"
      ]
     },
     "execution_count": 43,
     "metadata": {},
     "output_type": "execute_result"
    }
   ],
   "source": [
    "from sklearn.multiclass import OneVsOneClassifier\n",
    "\n",
    "# here we can force the use of OVO rather than OVA\n",
    "ovo_clf = OneVsOneClassifier(SGDClassifier(random_state=RANDOM_STATE, max_iter=50))\n",
    "ovo_clf.fit(X_train, y_train)\n",
    "print(len(ovo_clf.estimators_)) # one binary classifer for each digit versus each other digit\n",
    "ovo_clf.predict([five_digit])"
   ]
  },
  {
   "cell_type": "code",
   "execution_count": 45,
   "metadata": {},
   "outputs": [
    {
     "name": "stdout",
     "output_type": "stream",
     "text": [
      "[5.]\n",
      "[[0.  0.  0.  0.  0.  0.9 0.1 0.  0.  0. ]]\n"
     ]
    }
   ],
   "source": [
    "forest_clf.fit(X_train, y_train)\n",
    "print(forest_clf.predict([five_digit]))\n",
    "print(forest_clf.predict_proba([five_digit]))\n"
   ]
  },
  {
   "cell_type": "code",
   "execution_count": 47,
   "metadata": {},
   "outputs": [
    {
     "name": "stdout",
     "output_type": "stream",
     "text": [
      "[0.87267546 0.85169258 0.81547232]\n",
      "[0.91321736 0.91309565 0.90953643]\n"
     ]
    }
   ],
   "source": [
    "# Now that we've trained our multi-class classifiers, let's see how good they are\n",
    "from sklearn.preprocessing import StandardScaler\n",
    "\n",
    "with joblib.parallel_backend(\"dask\", scatter=[X_train, y_train]):\n",
    "    print(cross_val_score(sgd_clf, X_train, y_train, cv=3, scoring=\"accuracy\"))\n",
    "    # this is okay, but we can do better just by scaling inputs\n",
    "    # note that 10% accuracy would be a random guess\n",
    "\n",
    "    scaler = StandardScaler()\n",
    "    X_train_scaled = scaler.fit_transform(X_train.astype(np.float64))\n",
    "    print(cross_val_score(sgd_clf, X_train_scaled, y_train, cv=3, scoring=\"accuracy\"))\n"
   ]
  },
  {
   "cell_type": "code",
   "execution_count": null,
   "metadata": {},
   "outputs": [],
   "source": []
  }
 ],
 "metadata": {
  "kernelspec": {
   "display_name": "Python 3",
   "language": "python",
   "name": "python3"
  },
  "language_info": {
   "codemirror_mode": {
    "name": "ipython",
    "version": 3
   },
   "file_extension": ".py",
   "mimetype": "text/x-python",
   "name": "python",
   "nbconvert_exporter": "python",
   "pygments_lexer": "ipython3",
   "version": "3.6.0"
  }
 },
 "nbformat": 4,
 "nbformat_minor": 2
}
